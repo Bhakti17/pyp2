{
  "nbformat": 4,
  "nbformat_minor": 0,
  "metadata": {
    "colab": {
      "name": "Untitled6.ipynb",
      "provenance": []
    },
    "kernelspec": {
      "name": "python3",
      "display_name": "Python 3"
    },
    "language_info": {
      "name": "python"
    }
  },
  "cells": [
    {
      "cell_type": "code",
      "execution_count": null,
      "metadata": {
        "id": "nSK3_sgncqfL"
      },
      "outputs": [],
      "source": [
        ""
      ]
    },
    {
      "cell_type": "markdown",
      "source": [
        "   SECTION A\n",
        "   1)"
      ],
      "metadata": {
        "id": "Ad9XJvnBdYM_"
      }
    },
    {
      "cell_type": "code",
      "source": [
        "def myfun() :\n",
        "   a=\"Hello Python\"\n",
        "   print(a)\n",
        "myfun()"
      ],
      "metadata": {
        "colab": {
          "base_uri": "https://localhost:8080/"
        },
        "id": "kR73oVY9dddY",
        "outputId": "5f0e8ca1-1e95-4681-99be-a48a20e253e5"
      },
      "execution_count": 3,
      "outputs": [
        {
          "output_type": "stream",
          "name": "stdout",
          "text": [
            "Hello Python\n"
          ]
        }
      ]
    },
    {
      "cell_type": "markdown",
      "source": [
        "\n",
        "2)\n"
      ],
      "metadata": {
        "id": "E2J1zBoPecVJ"
      }
    },
    {
      "cell_type": "code",
      "source": [
        " a=int(input(\"Enter the value:\"))\n",
        " b=int(input(\"Enter the value:\"))\n",
        " sum = a+b\n",
        " print(sum)\n",
        " div=a/b\n",
        " print(div)"
      ],
      "metadata": {
        "colab": {
          "base_uri": "https://localhost:8080/"
        },
        "id": "7kg1rSnuegvh",
        "outputId": "3fdeebd3-b6bb-410a-f20e-5a22af3f0338"
      },
      "execution_count": 4,
      "outputs": [
        {
          "output_type": "stream",
          "name": "stdout",
          "text": [
            "Enter the value:10\n",
            "Enter the value:5\n",
            "15\n",
            "2.0\n"
          ]
        }
      ]
    },
    {
      "cell_type": "markdown",
      "source": [
        "3)\n"
      ],
      "metadata": {
        "id": "_OLHSaTtfHfm"
      }
    },
    {
      "cell_type": "code",
      "source": [
        "base=float(input(\"Enter the base value :\"))\n",
        "height=float(input(\"Enter the height value:\"))\n",
        "area=0.5*base*height\n",
        "print(\"area of triangle =\" , area)"
      ],
      "metadata": {
        "colab": {
          "base_uri": "https://localhost:8080/"
        },
        "id": "zjJCuDdvfKRJ",
        "outputId": "6806cb07-7714-48a7-eccc-a61fe82bb755"
      },
      "execution_count": 5,
      "outputs": [
        {
          "output_type": "stream",
          "name": "stdout",
          "text": [
            "Enter the base value :5\n",
            "Enter the height value:6\n",
            "area of triangle = 15.0\n"
          ]
        }
      ]
    },
    {
      "cell_type": "markdown",
      "source": [
        "4)"
      ],
      "metadata": {
        "id": "oj211WW6gBjv"
      }
    },
    {
      "cell_type": "code",
      "source": [
        "a=10\n",
        "b=20\n",
        "temp=a\n",
        "a=b\n",
        "b=temp\n",
        "print(\"value of a=\",a)\n",
        "print(\"value of b=\",b)"
      ],
      "metadata": {
        "colab": {
          "base_uri": "https://localhost:8080/"
        },
        "id": "gNt9ApZEgDmO",
        "outputId": "c2317731-0941-45ca-a350-24c178ee8cf9"
      },
      "execution_count": 6,
      "outputs": [
        {
          "output_type": "stream",
          "name": "stdout",
          "text": [
            "value of a= 20\n",
            "value of b= 10\n"
          ]
        }
      ]
    },
    {
      "cell_type": "markdown",
      "source": [
        "5)\n"
      ],
      "metadata": {
        "id": "1g0L3EldhBRy"
      }
    },
    {
      "cell_type": "code",
      "source": [
        "  import random\n",
        "  print(random.randint(0,9))\n",
        "  "
      ],
      "metadata": {
        "colab": {
          "base_uri": "https://localhost:8080/"
        },
        "id": "Y1meRmoJhDrj",
        "outputId": "e99f844b-3342-4fec-a8f4-c73114f88209"
      },
      "execution_count": 7,
      "outputs": [
        {
          "output_type": "stream",
          "name": "stdout",
          "text": [
            "9\n"
          ]
        }
      ]
    },
    {
      "cell_type": "markdown",
      "source": [
        "  SECTION B\n",
        "\n",
        "  "
      ],
      "metadata": {
        "id": "JbKxOgozhTJx"
      }
    },
    {
      "cell_type": "code",
      "source": [
        ""
      ],
      "metadata": {
        "id": "uQbblmi4hXfR"
      },
      "execution_count": null,
      "outputs": []
    },
    {
      "cell_type": "markdown",
      "source": [
        "1)\n"
      ],
      "metadata": {
        "id": "n4rt3x-nhh82"
      }
    },
    {
      "cell_type": "code",
      "source": [
        "KM = int(input(\"Enter the kilometer value :\"))\n",
        "Miles = 0.621*KM\n",
        "print( \"Kilometer=\" , KM,\"Miles=\",Miles)\n"
      ],
      "metadata": {
        "colab": {
          "base_uri": "https://localhost:8080/"
        },
        "id": "KcucMqb_hj3Z",
        "outputId": "72974736-0e4b-471b-e7bf-5a4719c9a50b"
      },
      "execution_count": 8,
      "outputs": [
        {
          "output_type": "stream",
          "name": "stdout",
          "text": [
            "Enter the kilometer value :2\n",
            "Kilometer= 2 Miles= 1.242\n"
          ]
        }
      ]
    },
    {
      "cell_type": "markdown",
      "source": [
        "2)\n"
      ],
      "metadata": {
        "id": "9MxpBYQZiGUk"
      }
    },
    {
      "cell_type": "code",
      "source": [
        "celsius=float(input(\"Enter the celsius value:\"))\n",
        "fahrenheit = (celsius*9/5) + 32\n",
        "print(\"celsius=\",celsius,\"Fahrenheit=\",fahrenheit)"
      ],
      "metadata": {
        "colab": {
          "base_uri": "https://localhost:8080/"
        },
        "id": "rm-UqZ5kiIcC",
        "outputId": "2a173ca7-6647-4128-9652-5eef04b71d73"
      },
      "execution_count": 9,
      "outputs": [
        {
          "output_type": "stream",
          "name": "stdout",
          "text": [
            "Enter the celsius value:25\n",
            "celsius= 25.0 Fahrenheit= 77.0\n"
          ]
        }
      ]
    },
    {
      "cell_type": "markdown",
      "source": [
        "3)\n"
      ],
      "metadata": {
        "id": "GIeOoGoxi0R3"
      }
    },
    {
      "cell_type": "code",
      "source": [
        "import calendar\n",
        "y=2022\n",
        "m=8\n",
        "print(calendar , month(y,m))"
      ],
      "metadata": {
        "colab": {
          "base_uri": "https://localhost:8080/",
          "height": 200
        },
        "id": "_dfF0u4xi2Q3",
        "outputId": "031581f1-1277-491f-e95c-5ae9423011fb"
      },
      "execution_count": 15,
      "outputs": [
        {
          "output_type": "error",
          "ename": "TypeError",
          "evalue": "ignored",
          "traceback": [
            "\u001b[0;31m---------------------------------------------------------------------------\u001b[0m",
            "\u001b[0;31mTypeError\u001b[0m                                 Traceback (most recent call last)",
            "\u001b[0;32m<ipython-input-15-cb48d26b1641>\u001b[0m in \u001b[0;36m<module>\u001b[0;34m\u001b[0m\n\u001b[1;32m      2\u001b[0m \u001b[0my\u001b[0m\u001b[0;34m=\u001b[0m\u001b[0;36m2022\u001b[0m\u001b[0;34m\u001b[0m\u001b[0;34m\u001b[0m\u001b[0m\n\u001b[1;32m      3\u001b[0m \u001b[0mm\u001b[0m\u001b[0;34m=\u001b[0m\u001b[0;36m8\u001b[0m\u001b[0;34m\u001b[0m\u001b[0;34m\u001b[0m\u001b[0m\n\u001b[0;32m----> 4\u001b[0;31m \u001b[0mprint\u001b[0m\u001b[0;34m(\u001b[0m\u001b[0mcalendar\u001b[0m \u001b[0;34m,\u001b[0m \u001b[0mmonth\u001b[0m\u001b[0;34m(\u001b[0m\u001b[0my\u001b[0m\u001b[0;34m,\u001b[0m\u001b[0mm\u001b[0m\u001b[0;34m)\u001b[0m\u001b[0;34m)\u001b[0m\u001b[0;34m\u001b[0m\u001b[0;34m\u001b[0m\u001b[0m\n\u001b[0m",
            "\u001b[0;31mTypeError\u001b[0m: 'int' object is not callable"
          ]
        }
      ]
    },
    {
      "cell_type": "markdown",
      "source": [
        ""
      ],
      "metadata": {
        "id": "EuW7OG9QkDgA"
      }
    },
    {
      "cell_type": "markdown",
      "source": [
        "4)\n"
      ],
      "metadata": {
        "id": "F7Hvodj1kPb-"
      }
    },
    {
      "cell_type": "code",
      "source": [
        "import cmath\n",
        "a = 2\n",
        "b = 2\n",
        "c = 3\n",
        "d = (b**2) - (4*a*c)\n",
        "sol1 = (-b-cmath.sqrt(d))/(2*a)\n",
        "sol2 = (-b+cmath.sqrt(d))/(2*a)\n",
        "print(sol1,sol2)"
      ],
      "metadata": {
        "colab": {
          "base_uri": "https://localhost:8080/"
        },
        "id": "pTFkGlG2kRhX",
        "outputId": "c3144a27-7481-4af8-9da1-40b002797193"
      },
      "execution_count": 16,
      "outputs": [
        {
          "output_type": "stream",
          "name": "stdout",
          "text": [
            "(-0.5-1.118033988749895j) (-0.5+1.118033988749895j)\n"
          ]
        }
      ]
    },
    {
      "cell_type": "markdown",
      "source": [
        "5)\n"
      ],
      "metadata": {
        "id": "NlH7efF_lQC-"
      }
    },
    {
      "cell_type": "code",
      "source": [
        "a=8\n",
        "b=3\n",
        "a=a+b\n",
        "b=a-b\n",
        "print(\"a=\",a,\"b=\",b)"
      ],
      "metadata": {
        "colab": {
          "base_uri": "https://localhost:8080/"
        },
        "id": "BLhlo_UplR1H",
        "outputId": "3d718590-b4b2-491e-e729-8792495c0f90"
      },
      "execution_count": 17,
      "outputs": [
        {
          "output_type": "stream",
          "name": "stdout",
          "text": [
            "a= 11 b= 8\n"
          ]
        }
      ]
    },
    {
      "cell_type": "markdown",
      "source": [
        " SECTION C\n",
        "\n",
        " 1)\n",
        " "
      ],
      "metadata": {
        "id": "wcFe1JDgljbK"
      }
    },
    {
      "cell_type": "code",
      "source": [
        " num = int(input(\"Enter the value:\"))\n",
        " if num>0:\n",
        "   print(\"positive number\")\n",
        " elif num<0:\n",
        "     print(\"negative number\")\n",
        " else :\n",
        "       print(\"zero\")"
      ],
      "metadata": {
        "colab": {
          "base_uri": "https://localhost:8080/"
        },
        "id": "Sr_UibTmlnW3",
        "outputId": "87581107-5c16-43c8-c9d5-10074fdffccd"
      },
      "execution_count": 21,
      "outputs": [
        {
          "output_type": "stream",
          "name": "stdout",
          "text": [
            "Enter the value:2\n",
            "positive number\n"
          ]
        }
      ]
    },
    {
      "cell_type": "markdown",
      "source": [
        "2)\n"
      ],
      "metadata": {
        "id": "Qngr3VesmmMP"
      }
    },
    {
      "cell_type": "code",
      "source": [
        "num = int(input(\"enter the value:\"))\n",
        "if num%2==0:\n",
        "  print(\"it is even\")\n",
        "else :\n",
        "  print(\"it is odd\")"
      ],
      "metadata": {
        "colab": {
          "base_uri": "https://localhost:8080/"
        },
        "id": "iV4aL1Cdmnfl",
        "outputId": "e7b399c0-522f-46cb-fbbb-5ba118c81ebb"
      },
      "execution_count": 22,
      "outputs": [
        {
          "output_type": "stream",
          "name": "stdout",
          "text": [
            "enter the value:8\n",
            "it is even\n"
          ]
        }
      ]
    },
    {
      "cell_type": "markdown",
      "source": [
        "3)\n"
      ],
      "metadata": {
        "id": "6FF154-onA8_"
      }
    },
    {
      "cell_type": "code",
      "source": [
        "year = int(input(\"enter the year:\"))\n",
        "if (year % 400 == 0) and (year % 100 == 0) :\n",
        "    print(\"this is a leap \")\n",
        "elif (year % 4 ==0) and (year % 100 != 0) :\n",
        "    print(\"this is a leap year\")\n",
        "else :\n",
        "    print(\"this is not a leap year\")"
      ],
      "metadata": {
        "colab": {
          "base_uri": "https://localhost:8080/"
        },
        "id": "k_DfhwSQnCb3",
        "outputId": "6e3837ae-cb1a-43a6-f269-901db11b32da"
      },
      "execution_count": 25,
      "outputs": [
        {
          "output_type": "stream",
          "name": "stdout",
          "text": [
            "enter the year:2022\n",
            "this is not a leap year\n"
          ]
        }
      ]
    },
    {
      "cell_type": "markdown",
      "source": [
        "4)\n"
      ],
      "metadata": {
        "id": "8ZOgmuT7pHM3"
      }
    },
    {
      "cell_type": "code",
      "source": [
        "num= int(input(\"enter the value:\"))\n",
        "if num > 1:\n",
        "  for i in range(2, int(num/2)+1) :\n",
        "    if (num % i) == 0:\n",
        "      print(num, \"is not a prime number\")\n",
        "      break\n",
        "    else:\n",
        "       print(num, \"is a prime number\")\n",
        "else:\n",
        "    print(num, \"is not a prime number\")"
      ],
      "metadata": {
        "colab": {
          "base_uri": "https://localhost:8080/"
        },
        "id": "wnDl0vC5pIl3",
        "outputId": "081fee65-1b84-4b38-cd5a-ff3a6bfda406"
      },
      "execution_count": 29,
      "outputs": [
        {
          "output_type": "stream",
          "name": "stdout",
          "text": [
            "enter the value:100\n",
            "100 is not a prime number\n"
          ]
        }
      ]
    },
    {
      "cell_type": "markdown",
      "source": [
        "5)\n"
      ],
      "metadata": {
        "id": "q28gDdzRqfG5"
      }
    },
    {
      "cell_type": "code",
      "source": [
        "lower = int(input(\"enter the lower range:\"))\n",
        "upper = int(input(\"enter the upper range:\"))\n",
        "print(\"prime numbers between\" , lower , \"and\" , upper , \"are:\")\n",
        "for num in range (lower, upper + 1) :\n",
        "  if num > 1 :\n",
        "    for i in range(2, num) :\n",
        "      if (num % i ) == 0 :\n",
        "        break\n",
        "    else:\n",
        "      print(num)"
      ],
      "metadata": {
        "colab": {
          "base_uri": "https://localhost:8080/"
        },
        "id": "tH2Q0PWEqgVo",
        "outputId": "43d2e6cf-309c-427f-f483-89127c7ab083"
      },
      "execution_count": 30,
      "outputs": [
        {
          "output_type": "stream",
          "name": "stdout",
          "text": [
            "enter the lower range:8\n",
            "enter the upper range:10\n",
            "prime numbers between 8 and 10 are:\n"
          ]
        }
      ]
    },
    {
      "cell_type": "markdown",
      "source": [
        " SECTION D\n",
        "\n",
        " 1)\n",
        " "
      ],
      "metadata": {
        "id": "TJBNJco_r0AS"
      }
    },
    {
      "cell_type": "code",
      "source": [
        " def fact(n) :\n",
        "   fact = 1\n",
        "   for i in range(1,n+1) :\n",
        "     fact = fact*i\n",
        "     print(fact)\n",
        " fact(6)"
      ],
      "metadata": {
        "colab": {
          "base_uri": "https://localhost:8080/"
        },
        "id": "3ORnpnhpr5DE",
        "outputId": "7f7e4556-423f-4186-cef7-43a5b8feb33b"
      },
      "execution_count": 31,
      "outputs": [
        {
          "output_type": "stream",
          "name": "stdout",
          "text": [
            "1\n",
            "2\n",
            "6\n",
            "24\n",
            "120\n",
            "720\n"
          ]
        }
      ]
    },
    {
      "cell_type": "markdown",
      "source": [
        "2)\n"
      ],
      "metadata": {
        "id": "IgCdQcQqtjBS"
      }
    },
    {
      "cell_type": "code",
      "source": [
        " num = int(input(\"multiplication table of:\"))\n",
        " for i in range (1, 11) :\n",
        "   print(num, 'x', i, '=', num*i)"
      ],
      "metadata": {
        "colab": {
          "base_uri": "https://localhost:8080/"
        },
        "id": "kq8PkcCdt8rw",
        "outputId": "e6fb517d-69ee-4aa5-f1da-5faa8596b100"
      },
      "execution_count": 32,
      "outputs": [
        {
          "output_type": "stream",
          "name": "stdout",
          "text": [
            "multiplication table of:9\n",
            "9 x 1 = 9\n",
            "9 x 2 = 18\n",
            "9 x 3 = 27\n",
            "9 x 4 = 36\n",
            "9 x 5 = 45\n",
            "9 x 6 = 54\n",
            "9 x 7 = 63\n",
            "9 x 8 = 72\n",
            "9 x 9 = 81\n",
            "9 x 10 = 90\n"
          ]
        }
      ]
    },
    {
      "cell_type": "markdown",
      "source": [
        "3)\n"
      ],
      "metadata": {
        "id": "yOxukOoPumf9"
      }
    },
    {
      "cell_type": "code",
      "source": [
        "a=0\n",
        "b=1\n",
        "print(a)\n",
        "print(b)\n",
        "for i in range(1,11):\n",
        "  c=a+b\n",
        "  a=b\n",
        "  b=c\n",
        "  print(c)"
      ],
      "metadata": {
        "colab": {
          "base_uri": "https://localhost:8080/"
        },
        "id": "NcywEZyZuooe",
        "outputId": "bdd2efec-df53-439e-c007-2ee4f356121c"
      },
      "execution_count": 33,
      "outputs": [
        {
          "output_type": "stream",
          "name": "stdout",
          "text": [
            "0\n",
            "1\n",
            "1\n",
            "2\n",
            "3\n",
            "5\n",
            "8\n",
            "13\n",
            "21\n",
            "34\n",
            "55\n",
            "89\n"
          ]
        }
      ]
    },
    {
      "cell_type": "markdown",
      "source": [
        "4)\n"
      ],
      "metadata": {
        "id": "Zdgm-kZMvGjo"
      }
    },
    {
      "cell_type": "code",
      "source": [
        "num = int(input(\"enter a number:\"))\n",
        "sum = 0\n",
        "temp = num\n",
        "while temp > 0:\n",
        "  digit = temp % 10\n",
        "  sum+= digit ** 3\n",
        "  temp //= 10\n",
        "if num == sum:\n",
        "  print(num, \"is an armstrong number\")\n",
        "else :\n",
        "  print(num, \"is not an armstrong number\")"
      ],
      "metadata": {
        "colab": {
          "base_uri": "https://localhost:8080/"
        },
        "id": "BKRtIAzDvIVg",
        "outputId": "a174393a-66dd-4859-b297-4f04add2d5ff"
      },
      "execution_count": 34,
      "outputs": [
        {
          "output_type": "stream",
          "name": "stdout",
          "text": [
            "enter a number:20\n",
            "20 is not an armstrong number\n"
          ]
        }
      ]
    },
    {
      "cell_type": "markdown",
      "source": [
        "5)\n"
      ],
      "metadata": {
        "id": "RZYvKZJrwLfZ"
      }
    },
    {
      "cell_type": "code",
      "source": [
        "lower = int(input(\"enter lower range:\"))\n",
        "upper = int(input(\"enter upper range:\"))\n",
        "for i in range(lower,upper+1):\n",
        "    sum=0\n",
        "    num=i\n",
        "    while( i ! =0) :\n",
        "        digit=i%10\n",
        "    sum= sum+(digit*digit*digit)\n",
        "    i=i//10\n",
        "    if sum==num:\n",
        "       print(num)"
      ],
      "metadata": {
        "colab": {
          "base_uri": "https://localhost:8080/",
          "height": 130
        },
        "id": "hdGnnRBrwN3P",
        "outputId": "4063ed2e-0451-4fd5-8266-5c6c7ac3bcc8"
      },
      "execution_count": 37,
      "outputs": [
        {
          "output_type": "error",
          "ename": "SyntaxError",
          "evalue": "ignored",
          "traceback": [
            "\u001b[0;36m  File \u001b[0;32m\"<ipython-input-37-d4a9f896413d>\"\u001b[0;36m, line \u001b[0;32m6\u001b[0m\n\u001b[0;31m    while( i ! =0) :\u001b[0m\n\u001b[0m             ^\u001b[0m\n\u001b[0;31mSyntaxError\u001b[0m\u001b[0;31m:\u001b[0m invalid syntax\n"
          ]
        }
      ]
    },
    {
      "cell_type": "markdown",
      "source": [
        "6)\n"
      ],
      "metadata": {
        "id": "6dpfTUIpySPB"
      }
    },
    {
      "cell_type": "code",
      "source": [
        "num= int(input(\"enter the value:\"))\n",
        "if num < 0:\n",
        "  print(\"enter a positive number\")\n",
        "else:\n",
        "  sum = 0\n",
        "  while(num > 0):\n",
        "    sum += num\n",
        "    num -= 1\n",
        "  print(\"the sum is\", sum)"
      ],
      "metadata": {
        "colab": {
          "base_uri": "https://localhost:8080/"
        },
        "id": "K_zvXOoCyUsu",
        "outputId": "f5a341a6-003a-4ac5-8dc1-a01729c64001"
      },
      "execution_count": 38,
      "outputs": [
        {
          "output_type": "stream",
          "name": "stdout",
          "text": [
            "enter the value:38\n",
            "the sum is 741\n"
          ]
        }
      ]
    },
    {
      "cell_type": "markdown",
      "source": [
        " SECTION E\n",
        " 1)\n",
        " "
      ],
      "metadata": {
        "id": "9dGZLwC_32Q2"
      }
    },
    {
      "cell_type": "code",
      "source": [
        "array =[6,4,3,2,1]\n",
        "sum= 0\n",
        "for num in array :\n",
        "    sum=sum+num\n",
        "print(sum)"
      ],
      "metadata": {
        "colab": {
          "base_uri": "https://localhost:8080/"
        },
        "id": "fyIEUoWq36CA",
        "outputId": "29389b00-5cbf-4467-a39f-511fa1b61b4e"
      },
      "execution_count": 39,
      "outputs": [
        {
          "output_type": "stream",
          "name": "stdout",
          "text": [
            "16\n"
          ]
        }
      ]
    },
    {
      "cell_type": "markdown",
      "source": [
        "2)\n"
      ],
      "metadata": {
        "id": "E87KgB9X4PvX"
      }
    },
    {
      "cell_type": "code",
      "source": [
        "a = [10,20,30,40]\n",
        "max_element = a[0]\n",
        "for i in range(len(a)) :\n",
        "  if a[i] >max_element :\n",
        "    max_element = a[i]\n",
        "print (max_element)"
      ],
      "metadata": {
        "colab": {
          "base_uri": "https://localhost:8080/"
        },
        "id": "xzJZ4AQx4RCY",
        "outputId": "8fefb0bc-2350-474d-c7a3-d3f71009cdc3"
      },
      "execution_count": 40,
      "outputs": [
        {
          "output_type": "stream",
          "name": "stdout",
          "text": [
            "40\n"
          ]
        }
      ]
    },
    {
      "cell_type": "markdown",
      "source": [
        "3)\n"
      ],
      "metadata": {
        "id": "44e1uQSy5HdP"
      }
    },
    {
      "cell_type": "code",
      "source": [
        "def rotatearray(a,d) :\n",
        "  n=len(a)\n",
        "  a[ :] = a[d:n]+a[0:d]\n",
        "  return a\n",
        "arr = [5,6,7,8,9,10]\n",
        "print(\"rotated list is\")\n",
        "print(rotatearray (arr,2))"
      ],
      "metadata": {
        "colab": {
          "base_uri": "https://localhost:8080/"
        },
        "id": "efjxKkrp5KUm",
        "outputId": "bed2adee-97b0-44c8-a321-e3a488e1fa9b"
      },
      "execution_count": 41,
      "outputs": [
        {
          "output_type": "stream",
          "name": "stdout",
          "text": [
            "rotated list is\n",
            "[7, 8, 9, 10, 5, 6]\n"
          ]
        }
      ]
    },
    {
      "cell_type": "markdown",
      "source": [
        "4)"
      ],
      "metadata": {
        "id": "_fO9gOnN579p"
      }
    },
    {
      "cell_type": "code",
      "source": [
        "def splitarray(arr, n, k):\n",
        "    for i in range(0,k) :\n",
        "          x = arr[0]\n",
        "          for j in range(0, n-1) :\n",
        "                arr[j] = arr[j+1]\n",
        "          arr[n-1] = x\n",
        "arr = [1,2,3,4,5,6]\n",
        "n = len(arr)\n",
        "position = 3\n",
        "splitarray (arr, n, position)\n",
        "for  i in range(0,n) :\n",
        "    print(arr[i], end = '')"
      ],
      "metadata": {
        "colab": {
          "base_uri": "https://localhost:8080/"
        },
        "id": "9lXoYkg859Jc",
        "outputId": "6343f0fb-11f2-4d1c-ef76-3c3056fefb3a"
      },
      "execution_count": 42,
      "outputs": [
        {
          "output_type": "stream",
          "name": "stdout",
          "text": [
            "456123"
          ]
        }
      ]
    },
    {
      "cell_type": "markdown",
      "source": [
        "5)"
      ],
      "metadata": {
        "id": "TO8-s-C87aEZ"
      }
    },
    {
      "cell_type": "code",
      "source": [
        "def ismonotone(a) :\n",
        "  n=len(a)\n",
        "  if n==1:\n",
        "      return True\n",
        "  else:\n",
        "      if all(a[i]> =a[i+1] for i in range(0,n-1)) or a[i]<= a[i+1] for i in range (0,n-1)) :\n",
        "           return True\n",
        "  else :\n",
        "           return False"
      ],
      "metadata": {
        "colab": {
          "base_uri": "https://localhost:8080/",
          "height": 130
        },
        "id": "eLgpX6-Y7bQs",
        "outputId": "12fca608-5281-4fb7-fd9e-3d0f12c61513"
      },
      "execution_count": 48,
      "outputs": [
        {
          "output_type": "error",
          "ename": "SyntaxError",
          "evalue": "ignored",
          "traceback": [
            "\u001b[0;36m  File \u001b[0;32m\"<ipython-input-48-496f03ea9b91>\"\u001b[0;36m, line \u001b[0;32m6\u001b[0m\n\u001b[0;31m    if all(a[i]> =a[i+1] for i in range(0,n-1)) or a[i]<= a[i+1] for i in range (0,n-1)) :\u001b[0m\n\u001b[0m                 ^\u001b[0m\n\u001b[0;31mSyntaxError\u001b[0m\u001b[0;31m:\u001b[0m invalid syntax\n"
          ]
        }
      ]
    },
    {
      "cell_type": "markdown",
      "source": [
        "SECTION F\n",
        "1)\n"
      ],
      "metadata": {
        "id": "jTx80B5_-9r0"
      }
    },
    {
      "cell_type": "code",
      "source": [
        "def sumlist(list) :\n",
        "     sum =0\n",
        "     for i in range(len(list)):\n",
        "         sum = sum+list[i]\n",
        "     return sum\n",
        "list = [20,40,60]\n",
        "print(list)\n",
        "print(\"sum of list :\" ,sumlist(list))"
      ],
      "metadata": {
        "colab": {
          "base_uri": "https://localhost:8080/"
        },
        "id": "W82UJ1Po_B5W",
        "outputId": "a333a346-da18-4e50-aeea-fcdb7fbba587"
      },
      "execution_count": 50,
      "outputs": [
        {
          "output_type": "stream",
          "name": "stdout",
          "text": [
            "[20, 40, 60]\n",
            "sum of list : 120\n"
          ]
        }
      ]
    },
    {
      "cell_type": "markdown",
      "source": [
        "2)"
      ],
      "metadata": {
        "id": "LxSWOnsv_8Z7"
      }
    },
    {
      "cell_type": "code",
      "source": [
        "def mul_list(list) :\n",
        "    product = 1\n",
        "    for i in list:\n",
        "      product = product* i\n",
        "      return product\n",
        "list1 = [1,2,3,4]\n",
        "print(list1)\n",
        "print(\"product;\")\n",
        "print(mul_list(list1))"
      ],
      "metadata": {
        "colab": {
          "base_uri": "https://localhost:8080/"
        },
        "id": "EfOhOS-9_9kP",
        "outputId": "14d03987-c268-454d-b412-3c0da6c163cf"
      },
      "execution_count": 51,
      "outputs": [
        {
          "output_type": "stream",
          "name": "stdout",
          "text": [
            "[1, 2, 3, 4]\n",
            "product;\n",
            "1\n"
          ]
        }
      ]
    },
    {
      "cell_type": "markdown",
      "source": [
        "3,4)\n"
      ],
      "metadata": {
        "id": "CQ8aa3_vA8Hg"
      }
    },
    {
      "cell_type": "code",
      "source": [
        "a=(6,10,12,3,4)\n",
        "print(a)\n",
        "max_number = max(a)\n",
        "print(max_number)\n",
        "min_number=min(a)\n",
        "print(min_number)"
      ],
      "metadata": {
        "colab": {
          "base_uri": "https://localhost:8080/"
        },
        "id": "G6v-fDB7A9_l",
        "outputId": "3c61fefd-ae07-4eae-f223-7a89d5478f35"
      },
      "execution_count": 52,
      "outputs": [
        {
          "output_type": "stream",
          "name": "stdout",
          "text": [
            "(6, 10, 12, 3, 4)\n",
            "12\n",
            "3\n"
          ]
        }
      ]
    },
    {
      "cell_type": "markdown",
      "source": [
        "5)"
      ],
      "metadata": {
        "id": "P3n5ibKjBW78"
      }
    },
    {
      "cell_type": "code",
      "source": [
        "list1 = [90,70,60,60]\n",
        "new_list = set(list1)\n",
        "new_list.remove(max(new_list))\n",
        "print(max(new_list))"
      ],
      "metadata": {
        "colab": {
          "base_uri": "https://localhost:8080/"
        },
        "id": "ZmdSWPmtBYWD",
        "outputId": "975c8736-56b6-4eba-dc66-d784b28b8458"
      },
      "execution_count": 53,
      "outputs": [
        {
          "output_type": "stream",
          "name": "stdout",
          "text": [
            "70\n"
          ]
        }
      ]
    },
    {
      "cell_type": "markdown",
      "source": [
        "6)\n"
      ],
      "metadata": {
        "id": "AtxkupRcBwhJ"
      }
    },
    {
      "cell_type": "code",
      "source": [
        "def largestfunc(list1, N) :\n",
        "  new_list = []\n",
        "  for i in range(0, N) :\n",
        "    max1 = 0\n",
        "    for j in range(len(list1)) :\n",
        "        if list1[j] > max1:\n",
        "                max1 = list1[j];\n",
        "    list1.remove(max1) ;\n",
        "    new_list.append(max1)\n",
        "    print(\"largest numbers =\", new_list)\n",
        "my_list =[14,28,30,75,90,80]\n",
        "N =2 \n",
        "largestfunc(my_list, N)"
      ],
      "metadata": {
        "colab": {
          "base_uri": "https://localhost:8080/"
        },
        "id": "O6GaGfhKByZY",
        "outputId": "e5bd8ab8-a891-4e6c-ab6f-7a8c96688f88"
      },
      "execution_count": 58,
      "outputs": [
        {
          "output_type": "stream",
          "name": "stdout",
          "text": [
            "largest numbers = [90]\n",
            "largest numbers = [90, 80]\n"
          ]
        }
      ]
    },
    {
      "cell_type": "markdown",
      "source": [
        "7)\n"
      ],
      "metadata": {
        "id": "thXiMhYKD2db"
      }
    },
    {
      "cell_type": "code",
      "source": [
        "list1 = [10,20,40,30,5]\n",
        "for num in list1:\n",
        "    if num % 2 == 0:\n",
        "      print(num,end=\" \")"
      ],
      "metadata": {
        "colab": {
          "base_uri": "https://localhost:8080/"
        },
        "id": "Msre7AY9EAxy",
        "outputId": "b869f29d-4cfc-4a85-f9a4-a28411c70cdf"
      },
      "execution_count": 60,
      "outputs": [
        {
          "output_type": "stream",
          "name": "stdout",
          "text": [
            "10 20 40 30 "
          ]
        }
      ]
    },
    {
      "cell_type": "markdown",
      "source": [
        "8)\n"
      ],
      "metadata": {
        "id": "vSMbjVx0EfYw"
      }
    },
    {
      "cell_type": "code",
      "source": [
        "list1 =[10,20,30,40,50]\n",
        "for num in list1:\n",
        "    if num % 2 ! = 0:\n",
        "        print(num, end=\" \")"
      ],
      "metadata": {
        "colab": {
          "base_uri": "https://localhost:8080/",
          "height": 130
        },
        "id": "kFkxlLupEg2g",
        "outputId": "ecb7b3c2-7859-42e3-8b92-0e3c2f04f003"
      },
      "execution_count": 62,
      "outputs": [
        {
          "output_type": "error",
          "ename": "SyntaxError",
          "evalue": "ignored",
          "traceback": [
            "\u001b[0;36m  File \u001b[0;32m\"<ipython-input-62-3fa021131047>\"\u001b[0;36m, line \u001b[0;32m3\u001b[0m\n\u001b[0;31m    if num % 2 ! = 0:\u001b[0m\n\u001b[0m               ^\u001b[0m\n\u001b[0;31mSyntaxError\u001b[0m\u001b[0;31m:\u001b[0m invalid syntax\n"
          ]
        }
      ]
    },
    {
      "cell_type": "markdown",
      "source": [
        "9)\n"
      ],
      "metadata": {
        "id": "Sz83igxeFFuI"
      }
    },
    {
      "cell_type": "code",
      "source": [
        "test_list=[5,10,15,[],25,30,35,[]]\n",
        "print(\"the orignal list is :\" + str(test_list is))\n",
        "while [] in test_list :\n",
        "   test_list.remove([])\n",
        "print(\"list after empty list removal is:\" + str(test_list))"
      ],
      "metadata": {
        "colab": {
          "base_uri": "https://localhost:8080/",
          "height": 130
        },
        "id": "_mIq0Mw8FJA2",
        "outputId": "9f948e8e-ba74-4d9d-fd95-89c5a14a35b0"
      },
      "execution_count": 63,
      "outputs": [
        {
          "output_type": "error",
          "ename": "SyntaxError",
          "evalue": "ignored",
          "traceback": [
            "\u001b[0;36m  File \u001b[0;32m\"<ipython-input-63-0436415918a4>\"\u001b[0;36m, line \u001b[0;32m2\u001b[0m\n\u001b[0;31m    print(\"the orignal list is :\" + str(test_list is))\u001b[0m\n\u001b[0m                                                    ^\u001b[0m\n\u001b[0;31mSyntaxError\u001b[0m\u001b[0;31m:\u001b[0m invalid syntax\n"
          ]
        }
      ]
    },
    {
      "cell_type": "markdown",
      "source": [
        "10)\n"
      ],
      "metadata": {
        "id": "nsPl2pyOGcMR"
      }
    },
    {
      "cell_type": "code",
      "source": [
        "def cloning (a1) :\n",
        "  li_copy = a1[:]\n",
        "  return li_copy\n",
        "a1 = [5,10,15,20]\n",
        "a2 = cloning(a1)\n",
        "print(\"orignal list:\" , a1)\n",
        "print(\"after cloning:\", a2)"
      ],
      "metadata": {
        "colab": {
          "base_uri": "https://localhost:8080/"
        },
        "id": "MbyWLeuzGgs-",
        "outputId": "e61c2c62-0048-463e-bd36-6db15548aeee"
      },
      "execution_count": 64,
      "outputs": [
        {
          "output_type": "stream",
          "name": "stdout",
          "text": [
            "orignal list: [5, 10, 15, 20]\n",
            "after cloning: [5, 10, 15, 20]\n"
          ]
        }
      ]
    },
    {
      "cell_type": "markdown",
      "source": [
        "11)\n"
      ],
      "metadata": {
        "id": "mjJ_yvFDHKAH"
      }
    },
    {
      "cell_type": "code",
      "source": [
        "sample_list = [\"2\",\"4\",\"6\",\"8\",\"10\"]\n",
        "print(sample_list.count(\"2\"))"
      ],
      "metadata": {
        "colab": {
          "base_uri": "https://localhost:8080/"
        },
        "id": "etAI5kr9HMko",
        "outputId": "78b434f1-086d-4b4c-8d70-1d4a39cde704"
      },
      "execution_count": 65,
      "outputs": [
        {
          "output_type": "stream",
          "name": "stdout",
          "text": [
            "1\n"
          ]
        }
      ]
    }
  ]
}